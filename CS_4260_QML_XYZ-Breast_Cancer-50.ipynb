{
 "cells": [
  {
   "cell_type": "code",
   "execution_count": 3,
   "metadata": {
    "colab": {
     "base_uri": "https://localhost:8080/",
     "height": 383
    },
    "id": "pJFS8tSI1T_o",
    "outputId": "f8fe2428-7700-49c2-c518-f1338cb03588"
   },
   "outputs": [],
   "source": [
    "import numpy as np\n",
    "import matplotlib.pyplot as plt\n",
    "\n",
    "from sklearn.datasets import load_breast_cancer\n",
    "from sklearn.preprocessing import StandardScaler\n",
    "\n",
    "import torch\n",
    "from torch.autograd import Function\n",
    "from torchvision import datasets, transforms\n",
    "from torch.utils.data import Dataset, DataLoader\n",
    "import torch.optim as optim\n",
    "import torch.nn as nn\n",
    "import torch.nn.functional as F\n",
    "\n",
    "import qiskit\n",
    "from qiskit import transpile, assemble\n",
    "from qiskit.visualization import *"
   ]
  },
  {
   "cell_type": "code",
   "execution_count": 4,
   "metadata": {
    "id": "mrS-2k_Q1cQX"
   },
   "outputs": [],
   "source": [
    "class QuantumCircuit:\n",
    "    def __init__(self, n_qubits, backend, shots):\n",
    "        self._circuit = qiskit.QuantumCircuit(n_qubits)\n",
    "        \n",
    "        all_qubits = [i for i in range(n_qubits)]\n",
    "        self.theta = qiskit.circuit.Parameter('theta')\n",
    "        \n",
    "        self._circuit.h(all_qubits)\n",
    "        self._circuit.barrier()\n",
    "        self._circuit.rx(self.theta, all_qubits)\n",
    "        self._circuit.ry(self.theta, all_qubits)\n",
    "#         self._circuit.rz(self.theta, all_qubits)\n",
    "        \n",
    "        self._circuit.measure_all()\n",
    "\n",
    "        self.backend = backend\n",
    "        self.shots = shots\n",
    "    \n",
    "    def run(self, thetas):\n",
    "        t_qc = transpile(self._circuit,\n",
    "                         self.backend)\n",
    "        qobj = assemble(t_qc,\n",
    "                        shots=self.shots,\n",
    "                        parameter_binds = [{self.theta: theta} for theta in thetas])\n",
    "        job = self.backend.run(qobj)\n",
    "        result = job.result().get_counts()\n",
    "        \n",
    "        counts = np.array(list(result.values()))\n",
    "        states = np.array(list(result.keys())).astype(float)\n",
    "        \n",
    "        probabilities = counts / self.shots\n",
    "        expectation = np.sum(states * probabilities)\n",
    "        \n",
    "        return np.array([expectation])"
   ]
  },
  {
   "cell_type": "code",
   "execution_count": 5,
   "metadata": {},
   "outputs": [
    {
     "data": {
      "text/html": [
       "<pre style=\"word-wrap: normal;white-space: pre;background: #fff0;line-height: 1.1;font-family: &quot;Courier New&quot;,Courier,monospace\">        ┌───┐ ░ ┌───────────┐┌───────────┐ ░ ┌─┐\n",
       "     q: ┤ H ├─░─┤ Rx(theta) ├┤ Ry(theta) ├─░─┤M├\n",
       "        └───┘ ░ └───────────┘└───────────┘ ░ └╥┘\n",
       "meas: 1/══════════════════════════════════════╩═\n",
       "                                              0 </pre>"
      ],
      "text/plain": [
       "        ┌───┐ ░ ┌───────────┐┌───────────┐ ░ ┌─┐\n",
       "     q: ┤ H ├─░─┤ Rx(theta) ├┤ Ry(theta) ├─░─┤M├\n",
       "        └───┘ ░ └───────────┘└───────────┘ ░ └╥┘\n",
       "meas: 1/══════════════════════════════════════╩═\n",
       "                                              0 "
      ]
     },
     "execution_count": 5,
     "metadata": {},
     "output_type": "execute_result"
    }
   ],
   "source": [
    "simulator = qiskit.Aer.get_backend('aer_simulator')\n",
    "\n",
    "circuit = QuantumCircuit(1, simulator, 100)\n",
    "circuit._circuit.draw( )"
   ]
  },
  {
   "cell_type": "code",
   "execution_count": 6,
   "metadata": {
    "id": "DBhBMf4l1cTG"
   },
   "outputs": [],
   "source": [
    "class HybridFunction(Function):\n",
    "    def forward(ctx, input, quantum_circuit, shift):\n",
    "        ctx.shift = shift\n",
    "        ctx.quantum_circuit = quantum_circuit\n",
    "\n",
    "        expectation_z = ctx.quantum_circuit.run(input[0].tolist())\n",
    "        result = torch.tensor([expectation_z])\n",
    "        ctx.save_for_backward(input, result)\n",
    "\n",
    "        return result\n",
    "      \n",
    "    def backward(ctx, grad_output):\n",
    "        input, expectation_z = ctx.saved_tensors\n",
    "        input_list = np.array(input.tolist())\n",
    "        \n",
    "        shift_right = input_list + np.ones(input_list.shape) * ctx.shift\n",
    "        shift_left = input_list - np.ones(input_list.shape) * ctx.shift\n",
    "        \n",
    "        gradients = []\n",
    "        for i in range(len(input_list)):\n",
    "            expectation_right = ctx.quantum_circuit.run(shift_right[i])\n",
    "            expectation_left  = ctx.quantum_circuit.run(shift_left[i])\n",
    "            \n",
    "            gradient = torch.tensor([expectation_right]) - torch.tensor([expectation_left])\n",
    "            gradients.append(gradient)\n",
    "            \n",
    "        gradients = np.array([gradients]).T\n",
    "        return torch.tensor([gradients]).float() * grad_output.float(), None, None\n",
    "\n",
    "class Hybrid(nn.Module):\n",
    "    def __init__(self, backend, shots, shift):\n",
    "        super(Hybrid, self).__init__()\n",
    "        self.quantum_circuit = QuantumCircuit(1, backend, shots)\n",
    "        self.shift = shift\n",
    "        \n",
    "    def forward(self, input):\n",
    "        return HybridFunction.apply(input, self.quantum_circuit, self.shift)"
   ]
  },
  {
   "cell_type": "code",
   "execution_count": 7,
   "metadata": {},
   "outputs": [],
   "source": [
    "class dataset(Dataset):\n",
    "  def __init__(self,x,y):\n",
    "    self.x = torch.tensor(x)\n",
    "    self.y = torch.tensor(y)\n",
    "    self.length = self.x.shape[0]\n",
    " \n",
    "  def __getitem__(self,idx):\n",
    "    return (self.x[idx], self.y[idx])\n",
    "\n",
    "  def __len__(self):\n",
    "    return self.length"
   ]
  },
  {
   "cell_type": "code",
   "execution_count": 8,
   "metadata": {},
   "outputs": [],
   "source": [
    "data = load_breast_cancer()\n",
    "x = data['data']\n",
    "y = data['target']\n",
    "\n",
    "X_train = dataset(x, y)\n",
    "train_loader = torch.utils.data.DataLoader(X_train, batch_size=1, shuffle=True)\n",
    "\n",
    "sc = StandardScaler()\n",
    "x = sc.fit_transform(x)"
   ]
  },
  {
   "cell_type": "code",
   "execution_count": 9,
   "metadata": {
    "id": "KJvr0Ztq1ceO"
   },
   "outputs": [],
   "source": [
    "class Net(nn.Module):\n",
    "    def __init__(self):\n",
    "        super(Net, self).__init__()\n",
    "        self.fc1 = nn.Linear(30, 64)\n",
    "        self.fc2 = nn.Linear(64, 128)\n",
    "        self.fc3 = nn.Linear(128, 64)\n",
    "        self.fc4 = nn.Linear(64, 1)\n",
    "        self.hybrid = Hybrid(qiskit.Aer.get_backend(\"aer_simulator\"), 100, np.pi / 2)\n",
    "\n",
    "    def forward(self, x):\n",
    "        x = F.relu(self.fc1(x))\n",
    "        x = F.relu(self.fc2(x))\n",
    "        x = F.relu(self.fc3(x))\n",
    "        x = self.fc4(x)\n",
    "        x = self.hybrid(x)\n",
    "        return torch.cat((x, 1 - x), -1)\n",
    "\n",
    "# class Net(nn.Module):\n",
    "#     def __init__(self):\n",
    "#         super(Net, self).__init__()\n",
    "#         self.fc1 = nn.Linear(30, 64)\n",
    "#         self.fc2 = nn.Linear(64, 128)\n",
    "#         self.fc3 = nn.Linear(128, 1)\n",
    "# #         self.hybrid = Hybrid(qiskit.Aer.get_backend(\"aer_simulator\"), 100, np.pi / 2)\n",
    "\n",
    "#     def forward(self, x):\n",
    "#         x = F.relu(self.fc1(x))\n",
    "#         x = F.relu(self.fc2(x))\n",
    "#         x = F.sigmoid(self.fc3(x))\n",
    "\n",
    "# #         x = self.fc3(x)\n",
    "# #         x = self.hybrid(x)\n",
    "#         return x\n",
    "# #         return torch.cat((x, 1 - x), -1)"
   ]
  },
  {
   "cell_type": "code",
   "execution_count": 12,
   "metadata": {
    "colab": {
     "base_uri": "https://localhost:8080/",
     "height": 445
    },
    "id": "iPEd4UQY1cgp",
    "outputId": "3ad84431-d527-4b69-fcaa-eece300d22ed"
   },
   "outputs": [
    {
     "name": "stderr",
     "output_type": "stream",
     "text": [
      "<timed exec>:14: UserWarning: To copy construct from a tensor, it is recommended to use sourceTensor.clone().detach() or sourceTensor.clone().detach().requires_grad_(True), rather than torch.tensor(sourceTensor).\n",
      "<ipython-input-6-1d7e14d9bab1>:27: FutureWarning: The input object of type 'Tensor' is an array-like implementing one of the corresponding protocols (`__array__`, `__array_interface__` or `__array_struct__`); but not a sequence (or 0-D). In the future, this object will be coerced as if it was first converted using `np.array(obj)`. To retain the old behaviour, you have to either modify the type 'Tensor', or assign to an empty array created with `np.empty(correct_shape, dtype=object)`.\n",
      "  gradients = np.array([gradients]).T\n"
     ]
    },
    {
     "name": "stdout",
     "output_type": "stream",
     "text": [
      "Training [2%]\tLoss: -0.5253\n",
      "Training [4%]\tLoss: -0.5355\n",
      "Training [6%]\tLoss: -0.5717\n",
      "Training [8%]\tLoss: -0.6035\n",
      "Training [10%]\tLoss: -0.7552\n",
      "Training [12%]\tLoss: -0.8019\n",
      "Training [14%]\tLoss: -0.8049\n",
      "Training [16%]\tLoss: -0.8029\n",
      "Training [18%]\tLoss: -0.8124\n",
      "Training [20%]\tLoss: -0.8066\n",
      "Training [22%]\tLoss: -0.7982\n",
      "Training [24%]\tLoss: -0.8147\n",
      "Training [26%]\tLoss: -0.8225\n",
      "Training [28%]\tLoss: -0.8032\n",
      "Training [30%]\tLoss: -0.8161\n",
      "Training [32%]\tLoss: -0.8185\n",
      "Training [34%]\tLoss: -0.8320\n",
      "Training [36%]\tLoss: -0.8355\n",
      "Training [38%]\tLoss: -0.8540\n",
      "Training [40%]\tLoss: -0.8718\n",
      "Training [42%]\tLoss: -0.8686\n",
      "Training [44%]\tLoss: -0.8773\n",
      "Training [46%]\tLoss: -0.8762\n",
      "Training [48%]\tLoss: -0.8689\n",
      "Training [50%]\tLoss: -0.8712\n",
      "Training [52%]\tLoss: -0.8790\n",
      "Training [54%]\tLoss: -0.8807\n",
      "Training [56%]\tLoss: -0.8825\n",
      "Training [58%]\tLoss: -0.8850\n",
      "Training [60%]\tLoss: -0.8864\n",
      "Training [62%]\tLoss: -0.8956\n",
      "Training [64%]\tLoss: -0.9026\n",
      "Training [66%]\tLoss: -0.8833\n",
      "Training [68%]\tLoss: -0.8892\n",
      "Training [70%]\tLoss: -0.8824\n",
      "Training [72%]\tLoss: -0.8923\n",
      "Training [74%]\tLoss: -0.9007\n",
      "Training [76%]\tLoss: -0.8959\n",
      "Training [78%]\tLoss: -0.8979\n",
      "Training [80%]\tLoss: -0.8954\n",
      "Training [82%]\tLoss: -0.8979\n",
      "Training [84%]\tLoss: -0.8979\n",
      "Training [86%]\tLoss: -0.8957\n",
      "Training [88%]\tLoss: -0.9027\n",
      "Training [90%]\tLoss: -0.9022\n",
      "Training [92%]\tLoss: -0.9036\n",
      "Training [94%]\tLoss: -0.9069\n",
      "Training [96%]\tLoss: -0.9067\n",
      "Training [98%]\tLoss: -0.9068\n",
      "Training [100%]\tLoss: -0.9056\n",
      "CPU times: user 16min 12s, sys: 2min 15s, total: 18min 28s\n",
      "Wall time: 14min 12s\n"
     ]
    }
   ],
   "source": [
    "%%time\n",
    "model = Net()\n",
    "optimizer = optim.Adam(model.parameters(), lr=0.001)\n",
    "loss_func = nn.NLLLoss()\n",
    "\n",
    "epochs = 50\n",
    "loss_list = []\n",
    "\n",
    "model.train()\n",
    "\n",
    "for epoch in range(epochs):\n",
    "    total_loss = []\n",
    "    for batch_idx, (data, target) in enumerate(train_loader):\n",
    "        optimizer.zero_grad()\n",
    "        inp = torch.tensor(data, dtype=torch.float32)\n",
    "        output = model(inp)\n",
    "        loss = loss_func(output, target)\n",
    "        loss.backward()\n",
    "        optimizer.step()\n",
    "        \n",
    "        total_loss.append(loss.item())\n",
    "        \n",
    "    loss_list.append(sum(total_loss)/len(total_loss))\n",
    "    print('Training [{:.0f}%]\\tLoss: {:.4f}'.format(\n",
    "        100. * (epoch + 1) / epochs, loss_list[-1]))"
   ]
  },
  {
   "cell_type": "code",
   "execution_count": 14,
   "metadata": {},
   "outputs": [
    {
     "data": {
      "text/plain": [
       "Text(0, 0.5, 'Neg Log Likelihood Loss')"
      ]
     },
     "execution_count": 14,
     "metadata": {},
     "output_type": "execute_result"
    },
    {
     "data": {
      "image/png": "[encoded data removed]",
      "text/plain": [
       "<Figure size 432x288 with 1 Axes>"
      ]
     },
     "metadata": {
      "needs_background": "light"
     },
     "output_type": "display_data"
    }
   ],
   "source": [
    "plt.plot(loss_list)\n",
    "plt.title('Hybrid NN Training Convergence')\n",
    "plt.xlabel('Training Iterations')\n",
    "plt.ylabel('Neg Log Likelihood Loss')"
   ]
  },
  {
   "cell_type": "code",
   "execution_count": null,
   "metadata": {},
   "outputs": [],
   "source": []
  }
 ],
 "metadata": {
  "colab": {
   "provenance": []
  },
  "kernelspec": {
   "display_name": "Python 3",
   "language": "python",
   "name": "python3"
  },
  "language_info": {
   "codemirror_mode": {
    "name": "ipython",
    "version": 3
   },
   "file_extension": ".py",
   "mimetype": "text/x-python",
   "name": "python",
   "nbconvert_exporter": "python",
   "pygments_lexer": "ipython3",
   "version": "3.8.8"
  }
 },
 "nbformat": 4,
 "nbformat_minor": 1
}
